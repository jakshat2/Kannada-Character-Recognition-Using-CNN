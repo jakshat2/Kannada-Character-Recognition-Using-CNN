{
 "cells": [
  {
   "cell_type": "code",
   "execution_count": 60,
   "id": "96018026",
   "metadata": {},
   "outputs": [
    {
     "data": {
      "text/plain": [
       "-1"
      ]
     },
     "execution_count": 60,
     "metadata": {},
     "output_type": "execute_result"
    }
   ],
   "source": [
    "import cv2\n",
    "import numpy as np\n",
    "\n",
    "# Load image, grayscale, Otsu's threshold\n",
    "\n",
    "image = cv2.imread(\"C:\\\\Users\\\\ra\\\\Desktop\\\\mini_project\\\\Database-2\\\\2\\\\10 (6).jpg\")\n",
    "original = image.copy()\n",
    "gray = cv2.cvtColor(image, cv2.COLOR_BGR2GRAY)\n",
    "thresh = cv2.threshold(gray, 0, 255, cv2.THRESH_BINARY_INV + cv2.THRESH_OTSU)[1]\n",
    "\n",
    "# Find contours, obtain bounding box, extract and save ROI\n",
    "ROI_number = 0\n",
    "cnts = cv2.findContours(thresh, cv2.RETR_EXTERNAL, cv2.CHAIN_APPROX_SIMPLE)\n",
    "cnts = cnts[0] if len(cnts) == 2 else cnts[1]\n",
    "for c in cnts:\n",
    "    x,y,w,h = cv2.boundingRect(c)\n",
    "    cv2.rectangle(image, (x, y), (x + w, y + h), (36,255,12), 2)\n",
    "    ROI = original[y:y+h, x:x+w]\n",
    "    cv2.imwrite('ROI_{}.png'.format(ROI_number), ROI)\n",
    "    ROI_number += 1\n",
    "\n",
    "cv2.imshow('image', image)\n",
    "cv2.waitKey()"
   ]
  },
  {
   "cell_type": "code",
   "execution_count": null,
   "id": "8b9ce668",
   "metadata": {},
   "outputs": [],
   "source": [
    "from PIL import Image\n",
    "import os\n",
    "path = \"C:\\\\Users\\\\ra\\\\Desktop\\\\mini_project\\\\Image\"\n",
    "dirs = os.listdir(path)\n",
    "# Opens a image in RGB mode\n",
    "for img in tqdm(dirs):\n",
    "    im = Image.open(os.path.join(path,img))\n",
    "\n",
    "    # Size of the image in pixels (size of original image)\n",
    "    # (This is not mandatory)\n",
    "    width, height = im.size\n",
    "\n",
    "    # Setting the points for cropped image\n",
    "    if(width==1200 and height==900):\n",
    "        left = 167\n",
    "        top = 200\n",
    "        right = 1100\n",
    "        bottom = 790\n",
    "    elif(width==875 and height==676):\n",
    "        left = 120\n",
    "        top = 200\n",
    "        right = 800\n",
    "        bottom = 550\n",
    "    else:\n",
    "        left=0\n",
    "        top=200\n",
    "        right=800\n",
    "        bottom=600\n",
    "\n",
    "    # Cropped image of above dimension\n",
    "    # (It will not change original image)\n",
    "    im1 = im.crop((left, top, right, bottom))\n",
    "    im1.save('C:\\\\Users\\\\ra\\\\Desktop\\\\mini_project\\\\Image\\\\out.png')\n",
    "    # Shows the image in image viewer"
   ]
  },
  {
   "cell_type": "code",
   "execution_count": 34,
   "id": "95a614fb",
   "metadata": {},
   "outputs": [
    {
     "name": "stdout",
     "output_type": "stream",
     "text": [
      "C:\\Users\\ra\\Desktop\\mini_project\\Image\n",
      "C:\\Users\\ra\\Desktop\\mini_project\\Image\n",
      "C:\\Users\\ra\\Desktop\\mini_project\\Image\n",
      "C:\\Users\\ra\\Desktop\\mini_project\\Image\n",
      "C:\\Users\\ra\\Desktop\\mini_project\\Image\n",
      "C:\\Users\\ra\\Desktop\\mini_project\\Image\n",
      "C:\\Users\\ra\\Desktop\\mini_project\\Image\n",
      "C:\\Users\\ra\\Desktop\\mini_project\\Image\n",
      "C:\\Users\\ra\\Desktop\\mini_project\\Image\n",
      "C:\\Users\\ra\\Desktop\\mini_project\\Image\n",
      "C:\\Users\\ra\\Desktop\\mini_project\\Image\n",
      "C:\\Users\\ra\\Desktop\\mini_project\\Image\n",
      "C:\\Users\\ra\\Desktop\\mini_project\\Image\n",
      "C:\\Users\\ra\\Desktop\\mini_project\\Image\n"
     ]
    }
   ],
   "source": [
    "from PIL import Image\n",
    "import os\n",
    "from tqdm import tqdm\n",
    "DATADIR = \"C:\\\\Users\\\\ra\\\\Desktop\\\\mini_project\\\\Image\" \n",
    "CATEGORIES=[\"0\" ,\"1\" ,\"2\" ,\"3\" ,\"4\" ,\"5\" ,\"6\" ,\"7\" ,\"8\" ,\"9\" ,\"10\" ,\"11\" ,\"12\" ,\"13\"]\n",
    "for category in CATEGORIES:\n",
    "#     path = os.path.join(DATADIR,category) \n",
    "    path=DATADIR\n",
    "    print(path)\n",
    "    for f in os.listdir(path):\n",
    "        if f.endswith('.jpg'):\n",
    "            im=Image.open(f)\n",
    "            im.imshow(im)\n",
    "            fn,fext=os.path.splitext(f)\n",
    "            fn=out\n",
    "            im.save('C:\\\\Users\\\\ra\\\\Desktop\\\\mini_project\\\\Image\\\\{}'.format(fn))\n",
    "        "
   ]
  },
  {
   "cell_type": "code",
   "execution_count": 45,
   "id": "54908a9f",
   "metadata": {},
   "outputs": [
    {
     "name": "stderr",
     "output_type": "stream",
     "text": [
      "100%|██████████| 33/33 [00:01<00:00, 18.02it/s]\n",
      "100%|██████████| 27/27 [00:00<00:00, 33.30it/s]\n",
      "100%|██████████| 28/28 [00:00<00:00, 35.05it/s]\n",
      "100%|██████████| 28/28 [00:00<00:00, 47.94it/s]\n",
      "100%|██████████| 25/25 [00:00<00:00, 43.54it/s]\n",
      "100%|██████████| 32/32 [00:00<00:00, 41.36it/s]\n",
      "100%|██████████| 28/28 [00:00<00:00, 40.84it/s]\n",
      "100%|██████████| 28/28 [00:00<00:00, 37.50it/s]\n",
      "100%|██████████| 38/38 [00:00<00:00, 52.19it/s]\n",
      "100%|██████████| 39/39 [00:00<00:00, 39.81it/s]\n",
      "100%|██████████| 21/21 [00:00<00:00, 34.98it/s]\n",
      "100%|██████████| 28/28 [00:00<00:00, 38.11it/s]\n"
     ]
    }
   ],
   "source": [
    "import cv2\n",
    "import numpy as np\n",
    "import os\n",
    "# DATADIR = \"C:\\\\Users\\\\ra\\\\Desktop\\\\mini_project\\\\Image\"  \n",
    "# path = os.path.join(DATADIR)  \n",
    "# Load image, grayscale, Otsu's threshold \n",
    "\n",
    "def boxbound(path):\n",
    "    for img in tqdm(os.listdir(path)): \n",
    "    #   img_array = cv2.imread(os.path.join(path,img), cv2.IMREAD_GRAYSCALE)\n",
    "        image = cv2.imread(os.path.join(path,img))\n",
    "        original = image.copy()\n",
    "        gray = cv2.cvtColor(image, cv2.COLOR_BGR2GRAY)\n",
    "        thresh = cv2.threshold(gray, 0, 255, cv2.THRESH_BINARY_INV + cv2.THRESH_OTSU)[1]\n",
    "\n",
    "        # Find contours, obtain bounding box, extract and save ROI\n",
    "        ROI_number = 0\n",
    "        cnts = cv2.findContours(thresh, cv2.RETR_EXTERNAL, cv2.CHAIN_APPROX_SIMPLE)\n",
    "        cnts = cnts[0] if len(cnts) == 2 else cnts[1]\n",
    "        for c in cnts:\n",
    "            x,y,w,h = cv2.boundingRect(c)\n",
    "            cv2.rectangle(image, (x, y), (x + w, y + h), (36,255,12), 2)\n",
    "            ROI = original[y:y+h, x:x+w]\n",
    "            cv2.imwrite('ROI_{}.png'.format(ROI_number), ROI)\n",
    "            ROI_number += 1\n",
    "\n",
    "        # cv2.imshow('image', image)\n",
    "        cv2.waitKey()\n",
    "\n",
    "for category in CATEGORIES:\n",
    "    path=os.path.join(DATADIR,category)\n",
    "    dirs = os.listdir(path)\n",
    "    boxbound(path)\n"
   ]
  },
  {
   "cell_type": "code",
   "execution_count": 1,
   "id": "c36ab555",
   "metadata": {},
   "outputs": [],
   "source": [
    "import os\n",
    "import cv2\n",
    "import numpy as np\n",
    "import matplotlib.pyplot as plt\n",
    "from tqdm import tqdm\n",
    "import pickle"
   ]
  },
  {
   "cell_type": "code",
   "execution_count": 2,
   "id": "79bd2635",
   "metadata": {},
   "outputs": [],
   "source": [
    "from PIL import Image\n",
    "import os.path, sys\n",
    "\n",
    "def crop(dirs,path):\n",
    "    for item in dirs:\n",
    "        fullpath = os.path.join(path,item)         #corrected\n",
    "        if os.path.isfile(fullpath):\n",
    "            im = Image.open(fullpath)\n",
    "            width, height = im.size\n",
    "            f, e = os.path.splitext(fullpath)\n",
    "            if(width==1200 and height==900):\n",
    "                imCrop = im.crop((167, 200, 1100, 790)) #corrected\n",
    "            else:\n",
    "                imCrop = im.crop((120, 200, 800, 550)) #corrected\n",
    "            imCrop.save(f + 'Cropped.jpg', \"JPEG\", quality=100)\n",
    "            \n",
    "\n",
    "\n",
    "\n",
    "\n"
   ]
  },
  {
   "cell_type": "code",
   "execution_count": 6,
   "id": "5011dee3",
   "metadata": {},
   "outputs": [
    {
     "name": "stdout",
     "output_type": "stream",
     "text": [
      "['acc_plot.png', 'loss_plot.png', 'ROI_75.png', 'Val_acc_plot.png', 'Val_loss_plot.png']\n",
      "Done\n"
     ]
    }
   ],
   "source": [
    "from PIL import Image\n",
    "import glob\n",
    "import os\n",
    " \n",
    "lst_imgs = [i for i in glob.glob(\"*.png\")]\n",
    " \n",
    "# It creates a folder called ltl if does't exist\n",
    "if not \"ltl\" in os.listdir():\n",
    "\tos.mkdir(\"ltl\")\n",
    " \n",
    "print(lst_imgs)\n",
    "for i in lst_imgs:\n",
    "\timg = Image.open(i)\n",
    "\timg = img.resize((64, 64), Image.ANTIALIAS)\n",
    "\timg.save(\"ltl\\\\\" + i[:-4] + \"_ltl.png\")\n",
    " \n",
    " \n",
    "print(\"Done\")\n",
    "os.startfile(\"ltl\")"
   ]
  },
  {
   "cell_type": "code",
   "execution_count": 2,
   "id": "5ce63021",
   "metadata": {},
   "outputs": [],
   "source": [
    "DATADIR = \"C:\\\\Users\\\\ra\\\\Desktop\\\\mini_project\\\\Cropped_Database\"\n",
    "CATEGORIES=[\"0\" ,\"1\" ,\"2\" ,\"3\" ,\"4\" ,\"5\" ,\"6\" ,\"7\" ,\"8\" ,\"9\" ,\"10\" ,\"11\" ,\"12\" ,\"13\" ,\"14\" ,\"15\" ,\"16\" ,\"17\" ,\"18\" ,\"19\" ,\"20\" ,\"21\" ,\"22\" ,\"23\" ,\"24\" ,\"25\" ,\"26\" ,\"27\" ,\"28\" ,\"29\" ,\"30\" ,\"31\" ,\"32\" ,\"33\" ,\"34\" ,\"35\" ,\"36\" ,\"37\" ,\"38\" ,\"39\" ,\"40\" ,\"41\" ,\"42\" ,\"43\" ,\"44\" ,\"45\" ,\"46\" ,\"47\" ,\"48\" ,\"49\" ,\"50\" ,\"51\" ,\"52\" ,\"53\" ,\"54\" ,\"55\" ,\"56\" ,\"57\" ,\"58\" ,\"59\" ,\"60\" ,\"61\" ,\"62\" ,\"63\" ,\"64\" ,\"65\" ,\"66\" ,\"67\" ,\"68\" ,\"69\" ,\"70\" ,\"71\" ,\"72\" ,\"73\" ,\"74\" ,\"75\" ,\"76\" ,\"77\" ,\"78\" ,\"79\" ,\"80\" ,\"81\" ,\"82\" ,\"83\" ,\"84\" ,\"85\" ,\"86\" ,\"87\" ,\"88\" ,\"89\" ,\"90\" ,\"91\" ,\"92\" ,\"93\" ,\"94\" ,\"95\" ,\"96\" ,\"97\" ,\"98\" ,\"99\" ,\"100\" ,\"101\" ,\"102\" ,\"103\" ,\"104\" ,\"105\" ,\"106\" ,\"107\" ,\"108\" ,\"109\" ,\"110\" ,\"111\" ,\"112\" ,\"113\" ,\"114\" ,\"115\" ,\"116\" ,\"117\" ,\"118\" ,\"119\" ,\"120\" ,\"121\" ,\"122\" ,\"123\" ,\"124\" ,\"125\" ,\"126\" ,\"127\" ,\"128\" ,\"129\" ,\"130\" ,\"131\" ,\"132\" ,\"133\" ,\"134\" ,\"135\" ,\"136\" ,\"137\" ,\"138\" ,\"139\" ,\"140\" ,\"141\" ,\"142\" ,\"143\" ,\"144\" ,\"145\" ,\"146\" ,\"147\" ,\"148\" ,\"149\" ,\"150\"]\n"
   ]
  },
  {
   "cell_type": "code",
   "execution_count": 4,
   "id": "4255f46b",
   "metadata": {},
   "outputs": [],
   "source": [
    "for category in CATEGORIES:\n",
    "    path=os.path.join(DATADIR,category)\n",
    "    dirs = os.listdir(path)\n",
    "    crop(dirs,path)"
   ]
  },
  {
   "cell_type": "code",
   "execution_count": 12,
   "id": "d2cecc7f",
   "metadata": {},
   "outputs": [],
   "source": [
    "img_shape=(32,32)\n",
    "WIDTH=32\n",
    "HEIGHT=32\n",
    "training_data=[]"
   ]
  },
  {
   "cell_type": "code",
   "execution_count": 5,
   "id": "6da6f047",
   "metadata": {},
   "outputs": [
    {
     "name": "stderr",
     "output_type": "stream",
     "text": [
      "100%|██████████| 33/33 [00:00<00:00, 49.43it/s]\n",
      "100%|██████████| 28/28 [00:00<00:00, 337.55it/s]\n",
      "100%|██████████| 29/29 [00:00<00:00, 327.14it/s]\n",
      "100%|██████████| 29/29 [00:00<00:00, 387.77it/s]\n",
      "100%|██████████| 33/33 [00:00<00:00, 207.90it/s]\n",
      "100%|██████████| 29/29 [00:00<00:00, 416.57it/s]\n",
      "100%|██████████| 30/30 [00:00<00:00, 255.44it/s]\n",
      "100%|██████████| 32/32 [00:00<00:00, 345.50it/s]\n",
      "100%|██████████| 26/26 [00:00<00:00, 349.27it/s]\n",
      "100%|██████████| 29/29 [00:00<00:00, 290.75it/s]\n",
      "100%|██████████| 29/29 [00:00<00:00, 371.69it/s]\n",
      "100%|██████████| 39/39 [00:00<00:00, 390.86it/s]\n",
      "100%|██████████| 43/43 [00:00<00:00, 346.17it/s]\n",
      "100%|██████████| 37/37 [00:00<00:00, 302.89it/s]\n",
      "100%|██████████| 36/36 [00:00<00:00, 284.21it/s]\n",
      "100%|██████████| 40/40 [00:00<00:00, 246.13it/s]\n",
      "100%|██████████| 31/31 [00:00<00:00, 361.98it/s]\n",
      "100%|██████████| 38/38 [00:00<00:00, 274.43it/s]\n",
      "100%|██████████| 32/32 [00:00<00:00, 279.77it/s]\n",
      "100%|██████████| 46/46 [00:00<00:00, 183.61it/s]\n",
      "100%|██████████| 32/32 [00:00<00:00, 359.44it/s]\n",
      "100%|██████████| 26/26 [00:00<00:00, 185.65it/s]\n",
      "100%|██████████| 31/31 [00:00<00:00, 201.41it/s]\n",
      "100%|██████████| 48/48 [00:00<00:00, 314.79it/s]\n",
      "100%|██████████| 39/39 [00:00<00:00, 237.10it/s]\n",
      "100%|██████████| 27/27 [00:00<00:00, 327.85it/s]\n",
      "100%|██████████| 32/32 [00:00<00:00, 257.90it/s]\n",
      "100%|██████████| 41/41 [00:00<00:00, 211.45it/s]\n",
      "100%|██████████| 31/31 [00:00<00:00, 211.00it/s]\n",
      "100%|██████████| 26/26 [00:00<00:00, 173.43it/s]\n",
      "100%|██████████| 32/32 [00:00<00:00, 230.14it/s]\n",
      "100%|██████████| 35/35 [00:00<00:00, 286.37it/s]\n",
      "100%|██████████| 32/32 [00:00<00:00, 209.07it/s]\n",
      "100%|██████████| 32/32 [00:00<00:00, 337.91it/s]\n",
      "100%|██████████| 43/43 [00:00<00:00, 200.99it/s]\n",
      "100%|██████████| 32/32 [00:00<00:00, 380.92it/s]\n",
      "100%|██████████| 31/31 [00:00<00:00, 223.33it/s]\n",
      "100%|██████████| 38/38 [00:00<00:00, 212.57it/s]\n",
      "100%|██████████| 43/43 [00:00<00:00, 175.24it/s]\n",
      "100%|██████████| 31/31 [00:00<00:00, 236.77it/s]\n",
      "100%|██████████| 31/31 [00:00<00:00, 196.31it/s]\n",
      "100%|██████████| 54/54 [00:00<00:00, 243.63it/s]\n",
      "100%|██████████| 43/43 [00:00<00:00, 449.65it/s]\n",
      "100%|██████████| 50/50 [00:00<00:00, 346.17it/s]\n",
      "100%|██████████| 41/41 [00:00<00:00, 202.35it/s]\n",
      "100%|██████████| 34/34 [00:00<00:00, 268.75it/s]\n",
      "100%|██████████| 48/48 [00:00<00:00, 284.76it/s]\n",
      "100%|██████████| 50/50 [00:00<00:00, 244.46it/s]\n",
      "100%|██████████| 32/32 [00:00<00:00, 256.83it/s]\n",
      "100%|██████████| 50/50 [00:00<00:00, 271.44it/s]\n",
      "100%|██████████| 50/50 [00:00<00:00, 314.04it/s]\n",
      "100%|██████████| 50/50 [00:00<00:00, 305.87it/s]\n",
      "100%|██████████| 50/50 [00:00<00:00, 220.45it/s]\n",
      "100%|██████████| 50/50 [00:00<00:00, 190.94it/s]\n",
      "100%|██████████| 50/50 [00:00<00:00, 257.17it/s]\n",
      "100%|██████████| 50/50 [00:00<00:00, 269.36it/s]\n",
      "100%|██████████| 50/50 [00:00<00:00, 299.94it/s]\n",
      "100%|██████████| 50/50 [00:00<00:00, 215.10it/s]\n",
      "100%|██████████| 50/50 [00:00<00:00, 205.14it/s]\n",
      "100%|██████████| 50/50 [00:00<00:00, 192.66it/s]\n",
      "100%|██████████| 50/50 [00:00<00:00, 160.67it/s]\n",
      "100%|██████████| 50/50 [00:00<00:00, 214.07it/s]\n",
      "100%|██████████| 50/50 [00:00<00:00, 123.15it/s]\n",
      "100%|██████████| 50/50 [00:00<00:00, 217.75it/s]\n",
      "100%|██████████| 50/50 [00:00<00:00, 248.31it/s]\n",
      "100%|██████████| 50/50 [00:00<00:00, 237.01it/s]\n",
      "100%|██████████| 50/50 [00:00<00:00, 233.92it/s]\n",
      "100%|██████████| 50/50 [00:00<00:00, 187.89it/s]\n",
      "100%|██████████| 50/50 [00:00<00:00, 101.56it/s]\n",
      "100%|██████████| 50/50 [00:00<00:00, 126.65it/s]\n",
      "100%|██████████| 50/50 [00:00<00:00, 200.89it/s]\n",
      "100%|██████████| 50/50 [00:00<00:00, 173.26it/s]\n",
      "100%|██████████| 50/50 [00:00<00:00, 58.50it/s] \n",
      "100%|██████████| 50/50 [00:00<00:00, 132.37it/s]\n",
      "100%|██████████| 50/50 [00:00<00:00, 118.22it/s]\n",
      "100%|██████████| 50/50 [00:00<00:00, 157.83it/s]\n",
      "100%|██████████| 50/50 [00:00<00:00, 109.85it/s]\n",
      "100%|██████████| 50/50 [00:00<00:00, 108.12it/s]\n",
      "100%|██████████| 50/50 [00:00<00:00, 134.12it/s]\n",
      "100%|██████████| 50/50 [00:00<00:00, 106.68it/s]\n",
      "100%|██████████| 50/50 [00:00<00:00, 95.20it/s] \n",
      "100%|██████████| 50/50 [00:00<00:00, 105.70it/s]\n",
      "100%|██████████| 50/50 [00:00<00:00, 102.52it/s]\n",
      "100%|██████████| 50/50 [00:00<00:00, 123.22it/s]\n",
      "100%|██████████| 50/50 [00:00<00:00, 123.76it/s]\n",
      "100%|██████████| 50/50 [00:00<00:00, 137.89it/s]\n",
      "100%|██████████| 50/50 [00:00<00:00, 148.44it/s]\n",
      "100%|██████████| 50/50 [00:00<00:00, 143.52it/s]\n",
      "100%|██████████| 50/50 [00:00<00:00, 139.55it/s]\n",
      "100%|██████████| 50/50 [00:00<00:00, 163.28it/s]\n",
      "100%|██████████| 50/50 [00:00<00:00, 158.41it/s]\n",
      "100%|██████████| 50/50 [00:00<00:00, 127.49it/s]\n",
      "100%|██████████| 50/50 [00:00<00:00, 96.58it/s] \n",
      "100%|██████████| 50/50 [00:00<00:00, 157.83it/s]\n",
      "100%|██████████| 50/50 [00:00<00:00, 164.93it/s]\n",
      "100%|██████████| 50/50 [00:00<00:00, 154.74it/s]\n",
      "100%|██████████| 50/50 [00:00<00:00, 121.54it/s]\n",
      "100%|██████████| 50/50 [00:00<00:00, 212.39it/s]\n",
      "100%|██████████| 50/50 [00:00<00:00, 271.40it/s]\n",
      "100%|██████████| 50/50 [00:00<00:00, 279.60it/s]\n",
      "100%|██████████| 50/50 [00:00<00:00, 269.12it/s]\n",
      "100%|██████████| 50/50 [00:00<00:00, 267.47it/s]\n",
      "100%|██████████| 50/50 [00:00<00:00, 202.78it/s]\n",
      "100%|██████████| 50/50 [00:00<00:00, 219.99it/s]\n",
      "100%|██████████| 50/50 [00:00<00:00, 158.92it/s]\n",
      "100%|██████████| 50/50 [00:00<00:00, 176.18it/s]\n",
      "100%|██████████| 50/50 [00:00<00:00, 163.92it/s]\n",
      "100%|██████████| 50/50 [00:00<00:00, 178.20it/s]\n",
      "100%|██████████| 50/50 [00:00<00:00, 132.74it/s]\n",
      "100%|██████████| 50/50 [00:00<00:00, 124.36it/s]\n",
      "100%|██████████| 50/50 [00:00<00:00, 173.32it/s]\n",
      "100%|██████████| 50/50 [00:00<00:00, 250.73it/s]\n",
      "100%|██████████| 50/50 [00:00<00:00, 161.69it/s]\n",
      "100%|██████████| 50/50 [00:00<00:00, 131.97it/s]\n",
      "100%|██████████| 50/50 [00:00<00:00, 152.06it/s]\n",
      "100%|██████████| 50/50 [00:00<00:00, 130.57it/s]\n",
      "100%|██████████| 50/50 [00:00<00:00, 126.33it/s]\n",
      "100%|██████████| 50/50 [00:00<00:00, 138.86it/s]\n",
      "100%|██████████| 50/50 [00:00<00:00, 127.27it/s]\n",
      "100%|██████████| 50/50 [00:00<00:00, 110.21it/s]\n",
      "100%|██████████| 50/50 [00:00<00:00, 167.88it/s]\n",
      "100%|██████████| 50/50 [00:00<00:00, 137.72it/s]\n",
      "100%|██████████| 50/50 [00:00<00:00, 167.89it/s]\n",
      "100%|██████████| 50/50 [00:00<00:00, 64.13it/s] \n",
      "100%|██████████| 50/50 [00:00<00:00, 114.72it/s]\n",
      "100%|██████████| 50/50 [00:00<00:00, 113.46it/s]\n",
      "100%|██████████| 49/49 [00:00<00:00, 143.56it/s]\n",
      "100%|██████████| 50/50 [00:00<00:00, 134.82it/s]\n",
      "100%|██████████| 50/50 [00:00<00:00, 113.51it/s]\n",
      "100%|██████████| 50/50 [00:00<00:00, 115.18it/s]\n",
      "100%|██████████| 50/50 [00:00<00:00, 107.28it/s]\n",
      "100%|██████████| 50/50 [00:00<00:00, 172.97it/s]\n",
      "100%|██████████| 50/50 [00:00<00:00, 71.68it/s] \n",
      "100%|██████████| 50/50 [00:00<00:00, 98.83it/s] \n",
      "100%|██████████| 50/50 [00:00<00:00, 86.04it/s] \n",
      "100%|██████████| 50/50 [00:00<00:00, 95.11it/s] \n",
      "100%|██████████| 50/50 [00:00<00:00, 127.87it/s]\n",
      "100%|██████████| 50/50 [00:00<00:00, 119.11it/s]\n",
      "100%|██████████| 50/50 [00:00<00:00, 126.65it/s]\n",
      "100%|██████████| 50/50 [00:00<00:00, 173.14it/s]\n",
      "100%|██████████| 50/50 [00:00<00:00, 101.00it/s]\n",
      "100%|██████████| 50/50 [00:00<00:00, 105.84it/s]\n",
      "100%|██████████| 50/50 [00:00<00:00, 124.87it/s]\n",
      "100%|██████████| 50/50 [00:00<00:00, 119.20it/s]\n",
      "100%|██████████| 50/50 [00:00<00:00, 81.24it/s]\n",
      "100%|██████████| 50/50 [00:00<00:00, 102.74it/s]\n",
      "100%|██████████| 50/50 [00:00<00:00, 76.20it/s]\n",
      "100%|██████████| 100/100 [00:01<00:00, 95.71it/s]\n",
      "100%|██████████| 29/29 [00:00<00:00, 169.18it/s]\n",
      "100%|██████████| 31/31 [00:00<00:00, 215.39it/s]\n",
      "100%|██████████| 32/32 [00:00<00:00, 194.08it/s]\n"
     ]
    }
   ],
   "source": [
    "  for category in CATEGORIES:      \n",
    "    path = os.path.join(DATADIR,category)  \n",
    "    class_ind = CATEGORIES.index(category)\n",
    "    class_num = np.zeros(151)\n",
    "    class_num = class_ind\n",
    "    for img in tqdm(os.listdir(path)): \n",
    "      img_array = cv2.imread(os.path.join(path,img), cv2.IMREAD_GRAYSCALE) \n",
    "      \n",
    "      \n",
    "      img_array = cv2.resize(img_array,img_shape,interpolation = cv2.INTER_CUBIC)\n",
    "      training_data.append([img_array, class_num])"
   ]
  },
  {
   "cell_type": "code",
   "execution_count": 6,
   "id": "082a2c19",
   "metadata": {},
   "outputs": [],
   "source": [
    "import random"
   ]
  },
  {
   "cell_type": "code",
   "execution_count": 7,
   "id": "79b75f0a",
   "metadata": {},
   "outputs": [],
   "source": [
    "random.shuffle(training_data)"
   ]
  },
  {
   "cell_type": "code",
   "execution_count": 8,
   "id": "bc9cbcb8",
   "metadata": {},
   "outputs": [],
   "source": [
    "features_data = []\n",
    "label_data = []\n",
    "\n",
    "for features,label in training_data:\n",
    "  features_data.append(features)\n",
    "  label_data.append(label)"
   ]
  },
  {
   "cell_type": "code",
   "execution_count": 9,
   "id": "b585393b",
   "metadata": {},
   "outputs": [],
   "source": [
    "features_numpy1=np.array(features_data)\n",
    "label_numpy1=np.array(label_data)\n",
    "features_numpy1=features_numpy1.reshape(len(features_numpy1),WIDTH,HEIGHT)"
   ]
  },
  {
   "cell_type": "code",
   "execution_count": 11,
   "id": "a6042af6",
   "metadata": {},
   "outputs": [],
   "source": [
    "pickle_out = open(\"all_akashara_hand_char1_28 x 28.pickle\",\"wb\")\n",
    "pickle.dump(features_numpy1, pickle_out)\n",
    "pickle_out.close()\n",
    "pickle_out = open(\"all_akashara_hand_label1_28 x 28.pickle\",\"wb\")\n",
    "pickle.dump(label_numpy1, pickle_out)\n",
    "pickle_out.close()"
   ]
  },
  {
   "cell_type": "code",
   "execution_count": 2,
   "id": "f05d8a17",
   "metadata": {},
   "outputs": [],
   "source": [
    "pickle_in = open(\"C:\\\\Users\\\\ra\\\\Desktop\\\\mini_project\\\\all_akashara_hand_char1_28 x 28.pickle\",\"rb\")\n",
    "features_numpy1 = pickle.load(pickle_in)\n",
    "\n",
    "pickle_in = open(\"C:\\\\Users\\\\ra\\\\Desktop\\\\mini_project\\\\all_akashara_hand_label1_28 x 28.pickle\",\"rb\")\n",
    "label_numpy1 = pickle.load(pickle_in)"
   ]
  },
  {
   "cell_type": "code",
   "execution_count": 3,
   "id": "e995d3db",
   "metadata": {},
   "outputs": [
    {
     "data": {
      "text/plain": [
       "(6825, 32, 32)"
      ]
     },
     "execution_count": 3,
     "metadata": {},
     "output_type": "execute_result"
    }
   ],
   "source": [
    "features_numpy1.shape"
   ]
  },
  {
   "cell_type": "code",
   "execution_count": 4,
   "id": "7a18b773",
   "metadata": {},
   "outputs": [],
   "source": [
    "from sklearn.model_selection import train_test_split"
   ]
  },
  {
   "cell_type": "code",
   "execution_count": 5,
   "id": "1b077acd",
   "metadata": {},
   "outputs": [],
   "source": [
    "X_train, X_test, Y_train, Y_test = train_test_split(\n",
    "     features_numpy1, label_numpy1, test_size=0.1, random_state=42)"
   ]
  },
  {
   "cell_type": "code",
   "execution_count": 6,
   "id": "0fb745f2",
   "metadata": {},
   "outputs": [],
   "source": [
    "X_train=X_train/255.0\n",
    "X_test=X_test/255.0"
   ]
  },
  {
   "cell_type": "code",
   "execution_count": 7,
   "id": "0e782c96",
   "metadata": {},
   "outputs": [
    {
     "data": {
      "text/plain": [
       "(683, 32, 32)"
      ]
     },
     "execution_count": 7,
     "metadata": {},
     "output_type": "execute_result"
    }
   ],
   "source": [
    "X_test.shape"
   ]
  },
  {
   "cell_type": "code",
   "execution_count": 8,
   "id": "4cc89181",
   "metadata": {},
   "outputs": [
    {
     "data": {
      "image/png": "[encoded data removed]",
      "text/plain": [
       "<Figure size 576x576 with 16 Axes>"
      ]
     },
     "metadata": {
      "needs_background": "light"
     },
     "output_type": "display_data"
    }
   ],
   "source": [
    "# Plot 4 columns and 4 rows for a subplot\n",
    "plt_cols = 4\n",
    "plt_rows = 4\n",
    "\n",
    "# Start at image #100 of our train_x dataset\n",
    "row_to_start = 100\n",
    "\n",
    "# Create a figure, where each figure has a size (8,8)\n",
    "fig=plt.figure(figsize=(8, 8))\n",
    "\n",
    "# iterate between row_to_start to the amount of rows and cols we have created\n",
    "for i in range(row_to_start, row_to_start + plt_cols*plt_rows):\n",
    "    # each plot will initate the same rows and cols, for the 3rd param we will iterate from 1 to (rows * cols)\n",
    "    fig.add_subplot(plt_rows, plt_cols, i - row_to_start + 1)\n",
    "    fig.tight_layout()\n",
    "    #image to show is the train_x\n",
    "    plt.imshow(X_train[i], cmap=plt.get_cmap('gray'))\n",
    "    plt.title(label_numpy1[Y_train[i]])\n",
    "plt.show()"
   ]
  },
  {
   "cell_type": "code",
   "execution_count": 9,
   "id": "8abe86ae",
   "metadata": {},
   "outputs": [],
   "source": [
    "\n",
    "from tensorflow.keras import utils\n"
   ]
  },
  {
   "cell_type": "code",
   "execution_count": 10,
   "id": "9ed3ca43",
   "metadata": {},
   "outputs": [
    {
     "name": "stdout",
     "output_type": "stream",
     "text": [
      "train_y:  (6142, 151)\n",
      "test_y:  (683, 151)\n"
     ]
    }
   ],
   "source": [
    "Y_train = utils.to_categorical(Y_train, 151)\n",
    "Y_test = utils.to_categorical(Y_test, 151)\n",
    "print(\"train_y: \", Y_train.shape)\n",
    "print(\"test_y: \", Y_test.shape)"
   ]
  },
  {
   "cell_type": "code",
   "execution_count": 13,
   "id": "4363eba1",
   "metadata": {},
   "outputs": [],
   "source": [
    "X_train = X_train.reshape(-1, HEIGHT, WIDTH, 1)\n",
    "X_test = X_test.reshape(-1, HEIGHT, WIDTH, 1)"
   ]
  },
  {
   "cell_type": "code",
   "execution_count": 14,
   "id": "70349661",
   "metadata": {},
   "outputs": [
    {
     "name": "stdout",
     "output_type": "stream",
     "text": [
      "(6142, 32, 32, 1)\n",
      "(683, 32, 32, 1)\n"
     ]
    }
   ],
   "source": [
    "print(X_train.shape)\n",
    "print(X_test.shape)"
   ]
  },
  {
   "cell_type": "code",
   "execution_count": 15,
   "id": "7bd2becc",
   "metadata": {},
   "outputs": [],
   "source": [
    "#Model\n",
    "\n",
    "from tensorflow.keras.models import Sequential\n",
    "from tensorflow.keras.layers import Dense, Dropout, Activation, Flatten\n",
    "from tensorflow.keras.layers import Conv2D, MaxPooling2D\n",
    "from tensorflow.keras.callbacks import TensorBoard\n",
    "from tensorflow.keras.callbacks import EarlyStopping\n",
    "from sklearn.model_selection import train_test_split\n",
    "import time"
   ]
  },
  {
   "cell_type": "code",
   "execution_count": 16,
   "id": "5b1ee412",
   "metadata": {},
   "outputs": [],
   "source": [
    "HEIGHT = 32\n",
    "WIDTH = 32\n",
    "class_num = 151"
   ]
  },
  {
   "cell_type": "code",
   "execution_count": 17,
   "id": "a326cf5c",
   "metadata": {},
   "outputs": [],
   "source": [
    "# partition to train and val\n",
    "train_x, val_x, train_y, val_y = train_test_split(\n",
    "    X_train, Y_train, test_size=0.10, random_state=7)"
   ]
  },
  {
   "cell_type": "code",
   "execution_count": 18,
   "id": "a7265bc6",
   "metadata": {},
   "outputs": [],
   "source": [
    "dense_layers = [2]\n",
    "layer_sizes = [128]\n",
    "conv_layers = [2]\n",
    "callback = EarlyStopping(monitor='val_loss', patience=3)"
   ]
  },
  {
   "cell_type": "code",
   "execution_count": 19,
   "id": "84e16cc0",
   "metadata": {},
   "outputs": [
    {
     "name": "stdout",
     "output_type": "stream",
     "text": [
      "Final:2-conv-128-nodes-2-dense-0.2-Dropout-1628525605\n",
      "Epoch 1/50\n",
      "222/222 [==============================] - 35s 156ms/step - loss: 5.0174 - accuracy: 0.0107 - val_loss: 5.0146 - val_accuracy: 0.0163\n",
      "Epoch 2/50\n",
      "222/222 [==============================] - 31s 138ms/step - loss: 5.0098 - accuracy: 0.0138 - val_loss: 5.0122 - val_accuracy: 0.0163\n",
      "Epoch 3/50\n",
      "222/222 [==============================] - 31s 138ms/step - loss: 5.0039 - accuracy: 0.0138 - val_loss: 5.0136 - val_accuracy: 0.0163\n",
      "Epoch 4/50\n",
      "222/222 [==============================] - 31s 139ms/step - loss: 5.0015 - accuracy: 0.0138 - val_loss: 5.0132 - val_accuracy: 0.0163\n",
      "Epoch 5/50\n",
      "222/222 [==============================] - 32s 142ms/step - loss: 4.9996 - accuracy: 0.0138 - val_loss: 5.0144 - val_accuracy: 0.0163\n",
      "Epoch 6/50\n",
      "222/222 [==============================] - 31s 138ms/step - loss: 5.0000 - accuracy: 0.0138 - val_loss: 5.0136 - val_accuracy: 0.0163\n",
      "Epoch 7/50\n",
      "222/222 [==============================] - 31s 139ms/step - loss: 5.0002 - accuracy: 0.0138 - val_loss: 5.0131 - val_accuracy: 0.0163\n",
      "Epoch 8/50\n",
      "222/222 [==============================] - 31s 139ms/step - loss: 5.0001 - accuracy: 0.0138 - val_loss: 5.0141 - val_accuracy: 0.0163\n",
      "Epoch 9/50\n",
      "222/222 [==============================] - 32s 144ms/step - loss: 4.9986 - accuracy: 0.0138 - val_loss: 5.0156 - val_accuracy: 0.0163\n",
      "Epoch 10/50\n",
      "222/222 [==============================] - 31s 138ms/step - loss: 4.9989 - accuracy: 0.0138 - val_loss: 5.0146 - val_accuracy: 0.0163\n",
      "Epoch 11/50\n",
      "222/222 [==============================] - 31s 141ms/step - loss: 4.9987 - accuracy: 0.0138 - val_loss: 5.0150 - val_accuracy: 0.0163\n",
      "Epoch 12/50\n",
      "222/222 [==============================] - 31s 138ms/step - loss: 4.9985 - accuracy: 0.0138 - val_loss: 5.0151 - val_accuracy: 0.0163\n",
      "Epoch 13/50\n",
      "222/222 [==============================] - 31s 141ms/step - loss: 4.9987 - accuracy: 0.0138 - val_loss: 5.0156 - val_accuracy: 0.0163\n",
      "Epoch 14/50\n",
      "222/222 [==============================] - 31s 140ms/step - loss: 4.9987 - accuracy: 0.0138 - val_loss: 5.0146 - val_accuracy: 0.0163\n",
      "Epoch 15/50\n",
      "222/222 [==============================] - 31s 141ms/step - loss: 4.9979 - accuracy: 0.0138 - val_loss: 5.0161 - val_accuracy: 0.0163\n",
      "Epoch 16/50\n",
      "222/222 [==============================] - 31s 141ms/step - loss: 4.9983 - accuracy: 0.0138 - val_loss: 5.0158 - val_accuracy: 0.0163\n",
      "Epoch 17/50\n",
      "222/222 [==============================] - 31s 140ms/step - loss: 4.9977 - accuracy: 0.0138 - val_loss: 5.0153 - val_accuracy: 0.0163\n",
      "Epoch 18/50\n",
      "222/222 [==============================] - 31s 141ms/step - loss: 4.9980 - accuracy: 0.0138 - val_loss: 5.0152 - val_accuracy: 0.0163\n",
      "Epoch 19/50\n",
      "222/222 [==============================] - 31s 141ms/step - loss: 4.9982 - accuracy: 0.0138 - val_loss: 5.0150 - val_accuracy: 0.0163\n",
      "Epoch 20/50\n",
      "222/222 [==============================] - 31s 141ms/step - loss: 4.9980 - accuracy: 0.0138 - val_loss: 5.0144 - val_accuracy: 0.0163\n",
      "Epoch 21/50\n",
      "222/222 [==============================] - 31s 141ms/step - loss: 4.9978 - accuracy: 0.0138 - val_loss: 5.0149 - val_accuracy: 0.0163\n",
      "Epoch 22/50\n",
      "222/222 [==============================] - 31s 141ms/step - loss: 4.9980 - accuracy: 0.0138 - val_loss: 5.0145 - val_accuracy: 0.0163\n",
      "Epoch 23/50\n",
      "222/222 [==============================] - 32s 144ms/step - loss: 4.9976 - accuracy: 0.0138 - val_loss: 5.0150 - val_accuracy: 0.0163\n",
      "Epoch 24/50\n",
      "222/222 [==============================] - 33s 148ms/step - loss: 4.9976 - accuracy: 0.0138 - val_loss: 5.0152 - val_accuracy: 0.0163\n",
      "Epoch 25/50\n",
      "222/222 [==============================] - 32s 145ms/step - loss: 4.9976 - accuracy: 0.0138 - val_loss: 5.0148 - val_accuracy: 0.0163\n",
      "Epoch 26/50\n",
      "222/222 [==============================] - 31s 142ms/step - loss: 4.9978 - accuracy: 0.0138 - val_loss: 5.0163 - val_accuracy: 0.0163\n",
      "Epoch 27/50\n",
      "222/222 [==============================] - 31s 140ms/step - loss: 4.9975 - accuracy: 0.0138 - val_loss: 5.0153 - val_accuracy: 0.0163\n",
      "Epoch 28/50\n",
      "222/222 [==============================] - 31s 142ms/step - loss: 4.9981 - accuracy: 0.0138 - val_loss: 5.0147 - val_accuracy: 0.0163\n",
      "Epoch 29/50\n",
      "222/222 [==============================] - 31s 141ms/step - loss: 4.9977 - accuracy: 0.0138 - val_loss: 5.0146 - val_accuracy: 0.0163\n",
      "Epoch 30/50\n",
      "222/222 [==============================] - 31s 140ms/step - loss: 4.9976 - accuracy: 0.0138 - val_loss: 5.0142 - val_accuracy: 0.0163\n",
      "Epoch 31/50\n",
      "222/222 [==============================] - 32s 142ms/step - loss: 4.9979 - accuracy: 0.0138 - val_loss: 5.0146 - val_accuracy: 0.0163\n",
      "Epoch 32/50\n",
      "222/222 [==============================] - 31s 141ms/step - loss: 4.9975 - accuracy: 0.0138 - val_loss: 5.0143 - val_accuracy: 0.0163\n",
      "Epoch 33/50\n",
      "222/222 [==============================] - 32s 142ms/step - loss: 4.9977 - accuracy: 0.0138 - val_loss: 5.0146 - val_accuracy: 0.0163\n",
      "Epoch 34/50\n",
      "222/222 [==============================] - 32s 142ms/step - loss: 4.9973 - accuracy: 0.0138 - val_loss: 5.0150 - val_accuracy: 0.0163\n",
      "Epoch 35/50\n",
      "222/222 [==============================] - 31s 141ms/step - loss: 4.9974 - accuracy: 0.0138 - val_loss: 5.0147 - val_accuracy: 0.0163\n",
      "Epoch 36/50\n",
      "222/222 [==============================] - 31s 139ms/step - loss: 4.9971 - accuracy: 0.0138 - val_loss: 5.0156 - val_accuracy: 0.0163\n",
      "Epoch 37/50\n",
      "222/222 [==============================] - 31s 140ms/step - loss: 4.9970 - accuracy: 0.0138 - val_loss: 5.0162 - val_accuracy: 0.0163\n",
      "Epoch 38/50\n",
      "222/222 [==============================] - 31s 140ms/step - loss: 4.9971 - accuracy: 0.0138 - val_loss: 5.0156 - val_accuracy: 0.0163\n",
      "Epoch 39/50\n",
      "222/222 [==============================] - 32s 146ms/step - loss: 4.9972 - accuracy: 0.0138 - val_loss: 5.0161 - val_accuracy: 0.0163\n",
      "Epoch 40/50\n",
      "222/222 [==============================] - 31s 142ms/step - loss: 4.9974 - accuracy: 0.0138 - val_loss: 5.0153 - val_accuracy: 0.0163\n",
      "Epoch 41/50\n",
      "222/222 [==============================] - 31s 141ms/step - loss: 4.9971 - accuracy: 0.0138 - val_loss: 5.0162 - val_accuracy: 0.0163\n",
      "Epoch 42/50\n",
      "222/222 [==============================] - 31s 141ms/step - loss: 4.9964 - accuracy: 0.0138 - val_loss: 5.0158 - val_accuracy: 0.0163\n",
      "Epoch 43/50\n",
      "222/222 [==============================] - 32s 144ms/step - loss: 4.9971 - accuracy: 0.0138 - val_loss: 5.0160 - val_accuracy: 0.0163\n",
      "Epoch 44/50\n",
      "222/222 [==============================] - 32s 144ms/step - loss: 4.9973 - accuracy: 0.0138 - val_loss: 5.0148 - val_accuracy: 0.0163\n",
      "Epoch 45/50\n",
      "222/222 [==============================] - 31s 142ms/step - loss: 4.9972 - accuracy: 0.0138 - val_loss: 5.0163 - val_accuracy: 0.0163\n",
      "Epoch 46/50\n",
      "222/222 [==============================] - 32s 142ms/step - loss: 4.9971 - accuracy: 0.0138 - val_loss: 5.0156 - val_accuracy: 0.0163\n",
      "Epoch 47/50\n",
      "222/222 [==============================] - 34s 151ms/step - loss: 4.9973 - accuracy: 0.0138 - val_loss: 5.0159 - val_accuracy: 0.0163\n",
      "Epoch 48/50\n",
      "222/222 [==============================] - 32s 142ms/step - loss: 4.9970 - accuracy: 0.0138 - val_loss: 5.0158 - val_accuracy: 0.0163\n",
      "Epoch 49/50\n",
      "222/222 [==============================] - 32s 145ms/step - loss: 4.9971 - accuracy: 0.0138 - val_loss: 5.0156 - val_accuracy: 0.0163\n",
      "Epoch 50/50\n",
      "222/222 [==============================] - 32s 142ms/step - loss: 4.9974 - accuracy: 0.0138 - val_loss: 5.0148 - val_accuracy: 0.0163\n"
     ]
    }
   ],
   "source": [
    "for dense_layer in dense_layers:\n",
    "    for layer_size in layer_sizes:\n",
    "        for conv_layer in conv_layers:\n",
    "            NAME = \"Final:{}-conv-{}-nodes-{}-dense-0.2-Dropout-{}\".format(\n",
    "                conv_layer, layer_size, dense_layer, int(time.time()))\n",
    "            \n",
    "            # initialize TensorBoard in the loop\n",
    "#             tensorboard = TensorBoard(log_dir='logs/{}'.format(NAME))\n",
    "            print(NAME) # Final:2-conv-128-nodes-2-dense-0.2-Dropout\n",
    "\n",
    "            # Build the model\n",
    "            model = Sequential()\n",
    "\n",
    "            # Begin with Conv2D layer\n",
    "            model.add(Conv2D(layer_size, (3, 3), input_shape=(HEIGHT, WIDTH, 1)))\n",
    "            model.add(Activation('relu'))\n",
    "            model.add(MaxPooling2D(pool_size=(2, 2)))\n",
    "\n",
    "            for l in range(conv_layer - 1):\n",
    "                # Extra Conv2D layers\n",
    "                model.add(Conv2D(layer_size, (3, 3)))\n",
    "                model.add(Activation('relu'))\n",
    "                model.add(MaxPooling2D(pool_size=(2, 2)))\n",
    "\n",
    "            model.add(Flatten())\n",
    "\n",
    "            for l in range(dense_layer):\n",
    "                # Adding dense layers\n",
    "                model.add(Dense(layer_size))\n",
    "                model.add(Activation('relu'))\n",
    "                model.add(Dropout(0.2))\n",
    "\n",
    "            # Output layer\n",
    "            model.add(Dense(units=class_num, activation='softmax'))\n",
    "\n",
    "            # Train the model\n",
    "            model.compile(optimizer='adam',\n",
    "                        loss='categorical_crossentropy',\n",
    "                        metrics=['accuracy'])\n",
    "\n",
    "            hist=model.fit(train_x, train_y, epochs=50, batch_size=25,\n",
    "                    validation_data=(val_x, val_y))\n",
    "\n",
    "            model.save('models.h5')\n"
   ]
  },
  {
   "cell_type": "code",
   "execution_count": 20,
   "id": "19908aee",
   "metadata": {},
   "outputs": [
    {
     "name": "stdout",
     "output_type": "stream",
     "text": [
      "69/69 [==============================] - 1s 16ms/step - loss: 5.0146 - accuracy: 0.0205\n",
      "test loss, test acc: [5.014560699462891, 0.020497804507613182]\n"
     ]
    }
   ],
   "source": [
    "results = model.evaluate(X_test, Y_test, batch_size=10)\n",
    "print(\"test loss, test acc:\", results)\n"
   ]
  },
  {
   "cell_type": "code",
   "execution_count": 40,
   "id": "d4a848ed",
   "metadata": {},
   "outputs": [
    {
     "name": "stdout",
     "output_type": "stream",
     "text": [
      "{'loss': [5.017363548278809, 5.005487442016602, 4.965642929077148, 4.896131992340088, 4.793867111206055, 4.673949241638184, 4.551437854766846, 4.437790870666504, 4.306238651275635, 4.187856674194336, 4.0515313148498535, 3.937180280685425, 3.7996890544891357, 3.683722734451294, 3.5534005165100098, 3.4362759590148926, 3.306769847869873, 3.1928117275238037, 3.0749521255493164, 2.958925724029541, 2.845041513442993, 2.7405359745025635, 2.644059896469116, 2.596057891845703, 2.505481481552124, 2.4231150150299072, 2.3429267406463623, 2.269758701324463, 2.224658966064453, 2.1503968238830566, 2.1046974658966064, 2.085076093673706, 2.0082333087921143, 1.9814352989196777, 1.8921923637390137, 1.9029066562652588, 1.7886115312576294, 1.8163009881973267, 1.7464303970336914, 1.7133508920669556, 1.7011597156524658, 1.6530451774597168, 1.629796028137207, 1.5939723253250122, 1.5587384700775146, 1.5315879583358765, 1.5243638753890991, 1.5168689489364624, 1.5182911157608032, 1.4283130168914795], 'accuracy': [0.010132079012691975, 0.012846028432250023, 0.014293468557298183, 0.017550207674503326, 0.026777636259794235, 0.04269947484135628, 0.05445992574095726, 0.07291477918624878, 0.080332912504673, 0.09535010159015656, 0.12013750523328781, 0.1308123767375946, 0.1523430496454239, 0.16428442299365997, 0.18545323610305786, 0.20662203431129456, 0.22362945973873138, 0.2433508187532425, 0.26868101954460144, 0.2811651825904846, 0.30794283747673035, 0.3320065140724182, 0.342319518327713, 0.34883299469947815, 0.3745250701904297, 0.3944273591041565, 0.39858874678611755, 0.41885289549827576, 0.4262710213661194, 0.4427356719970703, 0.4535914659500122, 0.46155238151550293, 0.4756649136543274, 0.4832639694213867, 0.5075085759162903, 0.5058802366256714, 0.5303057432174683, 0.5259634256362915, 0.5332006216049194, 0.5380857586860657, 0.5498462319374084, 0.5554550290107727, 0.5715578198432922, 0.5713768601417542, 0.5787950158119202, 0.5854893922805786, 0.591279149055481, 0.5943549871444702, 0.5947168469429016, 0.6084675192832947], 'val_loss': [5.0143842697143555, 4.988742351531982, 4.938442230224609, 4.871598243713379, 4.834917068481445, 4.748000144958496, 4.656892776489258, 4.599894046783447, 4.558678150177002, 4.527700424194336, 4.541886806488037, 4.517350196838379, 4.51924467086792, 4.522953033447266, 4.5894694328308105, 4.548036098480225, 4.60221529006958, 4.603188991546631, 4.67974853515625, 4.714023590087891, 4.826879501342773, 4.741707801818848, 4.941054344177246, 4.947521209716797, 5.013091564178467, 5.056707382202148, 5.13861608505249, 5.185666084289551, 5.3202714920043945, 5.4133501052856445, 5.368461608886719, 5.505287170410156, 5.447696208953857, 5.651062965393066, 5.6591572761535645, 5.721736907958984, 5.894198417663574, 5.866753578186035, 5.885591506958008, 6.271056175231934, 6.012932300567627, 6.248086929321289, 6.204012870788574, 6.389501571655273, 6.5437445640563965, 6.384105205535889, 6.440089225769043, 6.553906440734863, 6.625994682312012, 6.778483867645264], 'val_accuracy': [0.016260161995887756, 0.016260161995887756, 0.019512195140123367, 0.017886178568005562, 0.024390242993831635, 0.042276423424482346, 0.04065040498971939, 0.06829268485307693, 0.06504064798355103, 0.07479675114154816, 0.07642276585102081, 0.08780487626791, 0.09430894255638123, 0.08455284684896469, 0.10894308984279633, 0.1024390235543251, 0.11382114142179489, 0.12357723712921143, 0.12682926654815674, 0.1349593549966812, 0.13333334028720856, 0.13983739912509918, 0.1463414579629898, 0.13821138441562653, 0.13821138441562653, 0.13658536970615387, 0.1463414579629898, 0.1463414579629898, 0.13983739912509918, 0.16260161995887756, 0.15934959053993225, 0.16260161995887756, 0.16260161995887756, 0.1609756052494049, 0.17398373782634735, 0.1723577231168747, 0.1577235758304596, 0.1723577231168747, 0.17398373782634735, 0.17398373782634735, 0.1642276495695114, 0.1723577231168747, 0.16910569369792938, 0.16910569369792938, 0.17398373782634735, 0.17886178195476532, 0.16910569369792938, 0.16910569369792938, 0.17073170840740204, 0.17886178195476532]}\n"
     ]
    }
   ],
   "source": [
    "print(hist.history)"
   ]
  },
  {
   "cell_type": "code",
   "execution_count": 29,
   "id": "a31c932b",
   "metadata": {},
   "outputs": [
    {
     "ename": "AxisError",
     "evalue": "axis 1 is out of bounds for array of dimension 1",
     "output_type": "error",
     "traceback": [
      "\u001b[1;31m---------------------------------------------------------------------------\u001b[0m",
      "\u001b[1;31mAxisError\u001b[0m                                 Traceback (most recent call last)",
      "\u001b[1;32m<ipython-input-29-a2ce6af2d1b9>\u001b[0m in \u001b[0;36m<module>\u001b[1;34m\u001b[0m\n\u001b[0;32m      9\u001b[0m \u001b[1;33m\u001b[0m\u001b[0m\n\u001b[0;32m     10\u001b[0m \u001b[0mY_pred\u001b[0m \u001b[1;33m=\u001b[0m \u001b[0mnp\u001b[0m\u001b[1;33m.\u001b[0m\u001b[0margmax\u001b[0m\u001b[1;33m(\u001b[0m\u001b[0my_pred\u001b[0m\u001b[1;33m,\u001b[0m \u001b[1;36m1\u001b[0m\u001b[1;33m)\u001b[0m \u001b[1;31m# Decode Predicted labels\u001b[0m\u001b[1;33m\u001b[0m\u001b[1;33m\u001b[0m\u001b[0m\n\u001b[1;32m---> 11\u001b[1;33m \u001b[0mY_test\u001b[0m \u001b[1;33m=\u001b[0m \u001b[0mnp\u001b[0m\u001b[1;33m.\u001b[0m\u001b[0margmax\u001b[0m\u001b[1;33m(\u001b[0m\u001b[0mY_test\u001b[0m\u001b[1;33m,\u001b[0m \u001b[1;36m1\u001b[0m\u001b[1;33m)\u001b[0m \u001b[1;31m# Decode labels\u001b[0m\u001b[1;33m\u001b[0m\u001b[1;33m\u001b[0m\u001b[0m\n\u001b[0m\u001b[0;32m     12\u001b[0m \u001b[1;33m\u001b[0m\u001b[0m\n\u001b[0;32m     13\u001b[0m \u001b[0mmat\u001b[0m \u001b[1;33m=\u001b[0m \u001b[0mconfusion_matrix\u001b[0m\u001b[1;33m(\u001b[0m\u001b[0mY_test\u001b[0m\u001b[1;33m,\u001b[0m \u001b[0mY_pred\u001b[0m\u001b[1;33m)\u001b[0m \u001b[1;31m# Confusion matrix\u001b[0m\u001b[1;33m\u001b[0m\u001b[1;33m\u001b[0m\u001b[0m\n",
      "\u001b[1;32m<__array_function__ internals>\u001b[0m in \u001b[0;36margmax\u001b[1;34m(*args, **kwargs)\u001b[0m\n",
      "\u001b[1;32m~\\anaconda3\\envs\\myenv\\lib\\site-packages\\numpy\\core\\fromnumeric.py\u001b[0m in \u001b[0;36margmax\u001b[1;34m(a, axis, out)\u001b[0m\n\u001b[0;32m   1186\u001b[0m \u001b[1;33m\u001b[0m\u001b[0m\n\u001b[0;32m   1187\u001b[0m     \"\"\"\n\u001b[1;32m-> 1188\u001b[1;33m     \u001b[1;32mreturn\u001b[0m \u001b[0m_wrapfunc\u001b[0m\u001b[1;33m(\u001b[0m\u001b[0ma\u001b[0m\u001b[1;33m,\u001b[0m \u001b[1;34m'argmax'\u001b[0m\u001b[1;33m,\u001b[0m \u001b[0maxis\u001b[0m\u001b[1;33m=\u001b[0m\u001b[0maxis\u001b[0m\u001b[1;33m,\u001b[0m \u001b[0mout\u001b[0m\u001b[1;33m=\u001b[0m\u001b[0mout\u001b[0m\u001b[1;33m)\u001b[0m\u001b[1;33m\u001b[0m\u001b[1;33m\u001b[0m\u001b[0m\n\u001b[0m\u001b[0;32m   1189\u001b[0m \u001b[1;33m\u001b[0m\u001b[0m\n\u001b[0;32m   1190\u001b[0m \u001b[1;33m\u001b[0m\u001b[0m\n",
      "\u001b[1;32m~\\anaconda3\\envs\\myenv\\lib\\site-packages\\numpy\\core\\fromnumeric.py\u001b[0m in \u001b[0;36m_wrapfunc\u001b[1;34m(obj, method, *args, **kwds)\u001b[0m\n\u001b[0;32m     56\u001b[0m \u001b[1;33m\u001b[0m\u001b[0m\n\u001b[0;32m     57\u001b[0m     \u001b[1;32mtry\u001b[0m\u001b[1;33m:\u001b[0m\u001b[1;33m\u001b[0m\u001b[1;33m\u001b[0m\u001b[0m\n\u001b[1;32m---> 58\u001b[1;33m         \u001b[1;32mreturn\u001b[0m \u001b[0mbound\u001b[0m\u001b[1;33m(\u001b[0m\u001b[1;33m*\u001b[0m\u001b[0margs\u001b[0m\u001b[1;33m,\u001b[0m \u001b[1;33m**\u001b[0m\u001b[0mkwds\u001b[0m\u001b[1;33m)\u001b[0m\u001b[1;33m\u001b[0m\u001b[1;33m\u001b[0m\u001b[0m\n\u001b[0m\u001b[0;32m     59\u001b[0m     \u001b[1;32mexcept\u001b[0m \u001b[0mTypeError\u001b[0m\u001b[1;33m:\u001b[0m\u001b[1;33m\u001b[0m\u001b[1;33m\u001b[0m\u001b[0m\n\u001b[0;32m     60\u001b[0m         \u001b[1;31m# A TypeError occurs if the object does have such a method in its\u001b[0m\u001b[1;33m\u001b[0m\u001b[1;33m\u001b[0m\u001b[1;33m\u001b[0m\u001b[0m\n",
      "\u001b[1;31mAxisError\u001b[0m: axis 1 is out of bounds for array of dimension 1"
     ]
    },
    {
     "data": {
      "text/plain": [
       "<Figure size 720x720 with 0 Axes>"
      ]
     },
     "metadata": {},
     "output_type": "display_data"
    }
   ],
   "source": [
    "\n",
    "fig = plt.figure(figsize=(10, 10)) # Set Figure\n",
    "\n",
    "y_pred = model.predict(X_test) # Predict encoded label as 2 => [0, 0, 1, 0, 0, 0, 0, 0, 0, 0]\n",
    "\n",
    "Y_pred = np.argmax(y_pred, 1) # Decode Predicted labels\n",
    "Y_test = np.argmax(Y_test, 1) # Decode labels\n",
    "\n",
    "mat = confusion_matrix(Y_test, Y_pred) # Confusion matrix\n",
    "print(amt)\n",
    "# Plot Confusion matrix\n",
    "# sns.heatmap(mat.T, square=True, annot=True, cbar=False, cmap=plt.cm.Blues)\n",
    "plt.xlabel('Predicted Values')\n",
    "plt.ylabel('True Values');\n",
    "plt.show();"
   ]
  },
  {
   "cell_type": "code",
   "execution_count": 46,
   "id": "6e1a2c89",
   "metadata": {},
   "outputs": [
    {
     "name": "stdout",
     "output_type": "stream",
     "text": [
      "[5.0143842697143555, 4.988742351531982, 4.938442230224609, 4.871598243713379, 4.834917068481445, 4.748000144958496, 4.656892776489258, 4.599894046783447, 4.558678150177002, 4.527700424194336, 4.541886806488037, 4.517350196838379, 4.51924467086792, 4.522953033447266, 4.5894694328308105, 4.548036098480225, 4.60221529006958, 4.603188991546631, 4.67974853515625, 4.714023590087891, 4.826879501342773, 4.741707801818848, 4.941054344177246, 4.947521209716797, 5.013091564178467, 5.056707382202148, 5.13861608505249, 5.185666084289551, 5.3202714920043945, 5.4133501052856445, 5.368461608886719, 5.505287170410156, 5.447696208953857, 5.651062965393066, 5.6591572761535645, 5.721736907958984, 5.894198417663574, 5.866753578186035, 5.885591506958008, 6.271056175231934, 6.012932300567627, 6.248086929321289, 6.204012870788574, 6.389501571655273, 6.5437445640563965, 6.384105205535889, 6.440089225769043, 6.553906440734863, 6.625994682312012, 6.778483867645264]\n"
     ]
    }
   ],
   "source": [
    "print(hist.history['val_loss'])\n",
    "loss=hist.history['loss']\n",
    "val_loss=hist.history['val_loss']\n",
    "val_accuracy=hist.history['val_accuracy']"
   ]
  },
  {
   "cell_type": "code",
   "execution_count": 45,
   "id": "db368c16",
   "metadata": {},
   "outputs": [
    {
     "data": {
      "image/png": "[encoded data removed]",
      "text/plain": [
       "<Figure size 720x576 with 1 Axes>"
      ]
     },
     "metadata": {
      "needs_background": "light"
     },
     "output_type": "display_data"
    }
   ],
   "source": [
    "# visualize the loss as the network trained\n",
    "fig = plt.figure(figsize=(10,8))\n",
    "plt.plot(range(1,len(loss)+1),loss, label='Training Loss')\n",
    "plt.plot(range(1,len(val_loss)+1),val_loss,label='Validation Loss')\n",
    "\n",
    "# find position of lowest validation loss\n",
    "minposs = val_loss.index(min(val_loss))+1 \n",
    "plt.axvline(minposs, linestyle='--', color='r',label='Minimum Loss')\n",
    "\n",
    "plt.xlabel('epochs')\n",
    "plt.ylabel('loss')\n",
    "plt.ylim(0, 8) # consistent scale\n",
    "plt.xlim(0, len(val_loss)+1) # consistent scale\n",
    "plt.grid(True)\n",
    "plt.legend()\n",
    "plt.tight_layout()data:image/png;base64,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\n",
    "plt.show()\n",
    "fig.savefig('loss_plot.png', bbox_inches='tight')"
   ]
  },
  {
   "cell_type": "code",
   "execution_count": 55,
   "id": "0aed2bc6",
   "metadata": {},
   "outputs": [
    {
     "data": {
      "image/png": "[encoded data removed]",
      "text/plain": [
       "<Figure size 720x576 with 1 Axes>"
      ]
     },
     "metadata": {
      "needs_background": "light"
     },
     "output_type": "display_data"
    }
   ],
   "source": [
    "# visualize the loss as the network trained\n",
    "fig = plt.figure(figsize=(10,8))\n",
    "# plt.plot(range(1,len(loss)+1),loss, label='Training Loss')\n",
    "plt.plot(range(1,len(val_loss)+1),val_loss,label='Validation Accuracy')\n",
    "\n",
    "# find position of lowest validation loss\n",
    "maxposs = val_accuracy.index(max(val_accuracy)) \n",
    "plt.axvline(maxposs, linestyle='--', color='r',label='MAX ACC')\n",
    "\n",
    "plt.xlabel('epochs')\n",
    "plt.ylabel('val_accuracy')\n",
    "plt.ylim(0, 20) # consistent scale\n",
    "plt.xlim(0, len(val_accuracy)+1) # consistent scale\n",
    "plt.grid(True)\n",
    "plt.legend()\n",
    "plt.tight_layout()\n",
    "plt.show()\n",
    "fig.savefig('val_accuracy_plot.png', bbox_inches='tight')"
   ]
  },
  {
   "cell_type": "code",
   "execution_count": null,
   "id": "cf77d1dc",
   "metadata": {},
   "outputs": [],
   "source": []
  }
 ],
 "metadata": {
  "kernelspec": {
   "display_name": "myenv",
   "language": "python",
   "name": "myenv"
  },
  "language_info": {
   "codemirror_mode": {
    "name": "ipython",
    "version": 3
   },
   "file_extension": ".py",
   "mimetype": "text/x-python",
   "name": "python",
   "nbconvert_exporter": "python",
   "pygments_lexer": "ipython3",
   "version": "3.8.5"
  }
 },
 "nbformat": 4,
 "nbformat_minor": 5
}
