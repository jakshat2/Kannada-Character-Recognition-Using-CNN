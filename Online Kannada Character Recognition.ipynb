{
 "cells": [
  {
   "cell_type": "code",
   "execution_count": 74,
   "id": "1156de43",
   "metadata": {},
   "outputs": [],
   "source": [
    "import numpy as np\n",
    "import matplotlib.pyplot as plt\n",
    "import os\n",
    "from tensorflow.keras import utils\n",
    "import pickle\n",
    "from tqdm import tqdm\n",
    "import cv2\n"
   ]
  },
  {
   "cell_type": "code",
   "execution_count": 75,
   "id": "d84cfd36",
   "metadata": {},
   "outputs": [],
   "source": [
    "DATADIR = \"C:\\\\Users\\\\ra\\\\Desktop\\\\mini_project\\\\Database-2\"  \n",
    "img_shape=(120,120)\n",
    "WIDTH=120\n",
    "HEIGHT=120"
   ]
  },
  {
   "cell_type": "code",
   "execution_count": 76,
   "id": "2087e1ad",
   "metadata": {},
   "outputs": [],
   "source": [
    "CATEGORIES=[\"0\" ,\"1\" ,\"2\" ,\"3\" ,\"4\" ,\"5\" ,\"6\" ,\"7\" ,\"8\" ,\"9\" ,\"10\" ,\"11\" ,\"12\" ,\"13\" ,\"14\" ,\"15\" ,\"16\" ,\"17\" ,\"18\" ,\"19\" ,\"20\" ,\"21\" ,\"22\" ,\"23\" ,\"24\" ,\"25\" ,\"26\" ,\"27\" ,\"28\" ,\"29\" ,\"30\" ,\"31\" ,\"32\" ,\"33\" ,\"34\" ,\"35\" ,\"36\" ,\"37\" ,\"38\" ,\"39\" ,\"40\" ,\"41\" ,\"42\" ,\"43\" ,\"44\" ,\"45\" ,\"46\" ,\"47\" ,\"48\" ,\"49\" ,\"50\" ,\"51\" ,\"52\" ,\"53\" ,\"54\" ,\"55\" ,\"56\" ,\"57\" ,\"58\" ,\"59\" ,\"60\" ,\"61\" ,\"62\" ,\"63\" ,\"64\" ,\"65\" ,\"66\" ,\"67\" ,\"68\" ,\"69\" ,\"70\" ,\"71\" ,\"72\" ,\"73\" ,\"74\" ,\"75\" ,\"76\" ,\"77\" ,\"78\" ,\"79\" ,\"80\" ,\"81\" ,\"82\" ,\"83\" ,\"84\" ,\"85\" ,\"86\" ,\"87\" ,\"88\" ,\"89\" ,\"90\" ,\"91\" ,\"92\" ,\"93\" ,\"94\" ,\"95\" ,\"96\" ,\"97\" ,\"98\" ,\"99\" ,\"100\" ,\"101\" ,\"102\" ,\"103\" ,\"104\" ,\"105\" ,\"106\" ,\"107\" ,\"108\" ,\"109\" ,\"110\" ,\"111\" ,\"112\" ,\"113\" ,\"114\" ,\"115\" ,\"116\" ,\"117\" ,\"118\" ,\"119\" ,\"120\" ,\"121\" ,\"122\" ,\"123\" ,\"124\" ,\"125\" ,\"126\" ,\"127\" ,\"128\" ,\"129\" ,\"130\" ,\"131\" ,\"132\" ,\"133\" ,\"134\" ,\"135\" ,\"136\" ,\"137\" ,\"138\" ,\"139\" ,\"140\" ,\"141\" ,\"142\" ,\"143\" ,\"144\" ,\"145\" ,\"146\" ,\"147\" ,\"148\" ,\"149\" ,\"150\"]\n",
    "training_data=[]"
   ]
  },
  {
   "cell_type": "code",
   "execution_count": 77,
   "id": "d925c1a9",
   "metadata": {},
   "outputs": [
    {
     "name": "stderr",
     "output_type": "stream",
     "text": [
      "100%|██████████| 50/50 [00:00<00:00, 51.50it/s]\n",
      "100%|██████████| 50/50 [00:00<00:00, 136.22it/s]\n",
      "100%|██████████| 50/50 [00:00<00:00, 120.77it/s]\n",
      "100%|██████████| 50/50 [00:00<00:00, 135.57it/s]\n",
      "100%|██████████| 50/50 [00:00<00:00, 117.78it/s]\n",
      "100%|██████████| 51/51 [00:00<00:00, 134.59it/s]\n",
      "100%|██████████| 51/51 [00:00<00:00, 147.48it/s]\n",
      "100%|██████████| 50/50 [00:00<00:00, 136.75it/s]\n",
      "100%|██████████| 50/50 [00:00<00:00, 150.24it/s]\n",
      "100%|██████████| 50/50 [00:00<00:00, 175.54it/s]\n",
      "100%|██████████| 50/50 [00:00<00:00, 130.62it/s]\n",
      "100%|██████████| 50/50 [00:00<00:00, 203.37it/s]\n",
      "100%|██████████| 50/50 [00:00<00:00, 145.01it/s]\n",
      "100%|██████████| 51/51 [00:00<00:00, 141.75it/s]\n",
      "100%|██████████| 50/50 [00:00<00:00, 166.76it/s]\n",
      "100%|██████████| 50/50 [00:00<00:00, 147.12it/s]\n",
      "100%|██████████| 50/50 [00:00<00:00, 180.63it/s]\n",
      "100%|██████████| 50/50 [00:00<00:00, 137.82it/s]\n",
      "100%|██████████| 50/50 [00:00<00:00, 164.57it/s]\n",
      "100%|██████████| 46/46 [00:00<00:00, 125.76it/s]\n",
      "100%|██████████| 50/50 [00:00<00:00, 109.71it/s]\n",
      "100%|██████████| 50/50 [00:00<00:00, 119.69it/s]\n",
      "100%|██████████| 50/50 [00:00<00:00, 140.66it/s]\n",
      "100%|██████████| 50/50 [00:00<00:00, 131.31it/s]\n",
      "100%|██████████| 50/50 [00:00<00:00, 135.95it/s]\n",
      "100%|██████████| 50/50 [00:00<00:00, 149.34it/s]\n",
      "100%|██████████| 50/50 [00:00<00:00, 170.17it/s]\n",
      "100%|██████████| 50/50 [00:00<00:00, 163.49it/s]\n",
      "100%|██████████| 50/50 [00:00<00:00, 175.54it/s]\n",
      "100%|██████████| 50/50 [00:00<00:00, 145.43it/s]\n",
      "100%|██████████| 50/50 [00:00<00:00, 181.81it/s]\n",
      "100%|██████████| 50/50 [00:00<00:00, 178.68it/s]\n",
      "100%|██████████| 50/50 [00:00<00:00, 107.36it/s]\n",
      "100%|██████████| 50/50 [00:00<00:00, 129.27it/s]\n",
      "100%|██████████| 55/55 [00:00<00:00, 146.75it/s]\n",
      "100%|██████████| 50/50 [00:00<00:00, 146.44it/s]\n",
      "100%|██████████| 50/50 [00:00<00:00, 156.34it/s]\n",
      "100%|██████████| 50/50 [00:00<00:00, 135.58it/s]\n",
      "100%|██████████| 50/50 [00:00<00:00, 125.39it/s]\n",
      "100%|██████████| 50/50 [00:00<00:00, 152.99it/s]\n",
      "100%|██████████| 50/50 [00:00<00:00, 173.11it/s]\n",
      "100%|██████████| 54/54 [00:00<00:00, 153.50it/s]\n",
      "100%|██████████| 50/50 [00:00<00:00, 152.53it/s]\n",
      "100%|██████████| 50/50 [00:00<00:00, 142.94it/s]\n",
      "100%|██████████| 50/50 [00:00<00:00, 148.90it/s]\n",
      "100%|██████████| 50/50 [00:00<00:00, 185.00it/s]\n",
      "100%|██████████| 50/50 [00:00<00:00, 143.63it/s]\n",
      "100%|██████████| 50/50 [00:00<00:00, 150.24it/s]\n",
      "100%|██████████| 50/50 [00:00<00:00, 167.89it/s]\n",
      "100%|██████████| 50/50 [00:00<00:00, 137.36it/s]\n",
      "100%|██████████| 50/50 [00:00<00:00, 127.63it/s]\n",
      "100%|██████████| 50/50 [00:00<00:00, 146.28it/s]\n",
      "100%|██████████| 50/50 [00:00<00:00, 138.59it/s]\n",
      "100%|██████████| 50/50 [00:00<00:00, 137.44it/s]\n",
      "100%|██████████| 50/50 [00:00<00:00, 147.58it/s]\n",
      "100%|██████████| 50/50 [00:00<00:00, 142.13it/s]\n",
      "100%|██████████| 50/50 [00:00<00:00, 140.14it/s]\n",
      "100%|██████████| 50/50 [00:00<00:00, 135.95it/s]\n",
      "100%|██████████| 50/50 [00:00<00:00, 138.11it/s]\n",
      "100%|██████████| 50/50 [00:00<00:00, 142.94it/s]\n",
      "100%|██████████| 50/50 [00:00<00:00, 135.22it/s]\n",
      "100%|██████████| 50/50 [00:00<00:00, 137.07it/s]\n",
      "100%|██████████| 50/50 [00:00<00:00, 137.44it/s]\n",
      "100%|██████████| 50/50 [00:00<00:00, 116.35it/s]\n",
      "100%|██████████| 50/50 [00:00<00:00, 118.55it/s]\n",
      "100%|██████████| 50/50 [00:00<00:00, 103.58it/s]\n",
      "100%|██████████| 50/50 [00:00<00:00, 117.54it/s]\n",
      "100%|██████████| 50/50 [00:00<00:00, 116.61it/s]\n",
      "100%|██████████| 50/50 [00:00<00:00, 126.68it/s]\n",
      "100%|██████████| 50/50 [00:00<00:00, 135.05it/s]\n",
      "100%|██████████| 50/50 [00:00<00:00, 136.32it/s]\n",
      "100%|██████████| 50/50 [00:00<00:00, 142.53it/s]\n",
      "100%|██████████| 50/50 [00:00<00:00, 136.32it/s]\n",
      "100%|██████████| 50/50 [00:00<00:00, 136.69it/s]\n",
      "100%|██████████| 50/50 [00:00<00:00, 134.86it/s]\n",
      "100%|██████████| 50/50 [00:00<00:00, 128.94it/s]\n",
      "100%|██████████| 50/50 [00:00<00:00, 142.94it/s]\n",
      "100%|██████████| 50/50 [00:00<00:00, 139.54it/s]\n",
      "100%|██████████| 50/50 [00:00<00:00, 142.94it/s]\n",
      "100%|██████████| 50/50 [00:00<00:00, 135.95it/s]\n",
      "100%|██████████| 50/50 [00:00<00:00, 139.75it/s]\n",
      "100%|██████████| 50/50 [00:00<00:00, 134.85it/s]\n",
      "100%|██████████| 50/50 [00:00<00:00, 137.00it/s]\n",
      "100%|██████████| 50/50 [00:00<00:00, 135.58it/s]\n",
      "100%|██████████| 50/50 [00:00<00:00, 138.97it/s]\n",
      "100%|██████████| 50/50 [00:00<00:00, 133.77it/s]\n",
      "100%|██████████| 50/50 [00:00<00:00, 129.95it/s]\n",
      "100%|██████████| 50/50 [00:00<00:00, 134.49it/s]\n",
      "100%|██████████| 50/50 [00:00<00:00, 139.36it/s]\n",
      "100%|██████████| 50/50 [00:00<00:00, 142.87it/s]\n",
      "100%|██████████| 50/50 [00:00<00:00, 133.77it/s]\n",
      "100%|██████████| 50/50 [00:00<00:00, 143.35it/s]\n",
      "100%|██████████| 50/50 [00:00<00:00, 135.95it/s]\n",
      "100%|██████████| 50/50 [00:00<00:00, 137.07it/s]\n",
      "100%|██████████| 50/50 [00:00<00:00, 138.20it/s]\n",
      "100%|██████████| 50/50 [00:00<00:00, 132.70it/s]\n",
      "100%|██████████| 50/50 [00:00<00:00, 131.66it/s]\n",
      "100%|██████████| 50/50 [00:00<00:00, 138.59it/s]\n",
      "100%|██████████| 50/50 [00:00<00:00, 139.36it/s]\n",
      "100%|██████████| 50/50 [00:00<00:00, 134.80it/s]\n",
      "100%|██████████| 50/50 [00:00<00:00, 134.13it/s]\n",
      "100%|██████████| 50/50 [00:00<00:00, 128.47it/s]\n",
      "100%|██████████| 50/50 [00:00<00:00, 130.62it/s]\n",
      "100%|██████████| 50/50 [00:00<00:00, 133.06it/s]\n",
      "100%|██████████| 50/50 [00:00<00:00, 133.77it/s]\n",
      "100%|██████████| 50/50 [00:00<00:00, 123.22it/s]\n",
      "100%|██████████| 50/50 [00:00<00:00, 108.05it/s]\n",
      "100%|██████████| 50/50 [00:00<00:00, 103.80it/s]\n",
      "100%|██████████| 50/50 [00:00<00:00, 112.25it/s]\n",
      "100%|██████████| 50/50 [00:00<00:00, 113.96it/s]\n",
      "100%|██████████| 50/50 [00:00<00:00, 103.15it/s]\n",
      "100%|██████████| 50/50 [00:00<00:00, 124.76it/s]\n",
      "100%|██████████| 50/50 [00:00<00:00, 125.70it/s]\n",
      "100%|██████████| 50/50 [00:00<00:00, 123.84it/s]\n",
      "100%|██████████| 50/50 [00:00<00:00, 117.44it/s]\n",
      "100%|██████████| 50/50 [00:00<00:00, 121.14it/s]\n",
      "100%|██████████| 50/50 [00:00<00:00, 132.00it/s]\n",
      "100%|██████████| 50/50 [00:00<00:00, 128.61it/s]\n",
      "100%|██████████| 50/50 [00:00<00:00, 139.75it/s]\n",
      "100%|██████████| 50/50 [00:00<00:00, 135.22it/s]\n",
      "100%|██████████| 50/50 [00:00<00:00, 109.08it/s]\n",
      "100%|██████████| 50/50 [00:00<00:00, 114.48it/s]\n",
      "100%|██████████| 50/50 [00:00<00:00, 124.56it/s]\n",
      "100%|██████████| 50/50 [00:00<00:00, 111.03it/s]\n",
      "100%|██████████| 50/50 [00:00<00:00, 138.98it/s]\n",
      "100%|██████████| 50/50 [00:00<00:00, 137.36it/s]\n",
      "100%|██████████| 49/49 [00:00<00:00, 125.18it/s]\n",
      "100%|██████████| 50/50 [00:00<00:00, 116.75it/s]\n",
      "100%|██████████| 50/50 [00:00<00:00, 100.18it/s]\n",
      "100%|██████████| 50/50 [00:00<00:00, 139.36it/s]\n",
      "100%|██████████| 50/50 [00:00<00:00, 145.43it/s]\n",
      "100%|██████████| 50/50 [00:00<00:00, 135.95it/s]\n",
      "100%|██████████| 50/50 [00:00<00:00, 143.76it/s]\n",
      "100%|██████████| 50/50 [00:00<00:00, 148.90it/s]\n",
      "100%|██████████| 50/50 [00:00<00:00, 143.35it/s]\n",
      "100%|██████████| 50/50 [00:00<00:00, 149.34it/s]\n",
      "100%|██████████| 50/50 [00:00<00:00, 149.34it/s]\n",
      "100%|██████████| 50/50 [00:00<00:00, 142.13it/s]\n",
      "100%|██████████| 50/50 [00:00<00:00, 144.59it/s]\n",
      "100%|██████████| 50/50 [00:00<00:00, 131.66it/s]\n",
      "100%|██████████| 50/50 [00:00<00:00, 138.20it/s]\n",
      "100%|██████████| 50/50 [00:00<00:00, 145.01it/s]\n",
      "100%|██████████| 50/50 [00:00<00:00, 141.20it/s]\n",
      "100%|██████████| 50/50 [00:00<00:00, 138.20it/s]\n",
      "100%|██████████| 50/50 [00:00<00:00, 149.79it/s]\n",
      "100%|██████████| 50/50 [00:00<00:00, 130.97it/s]\n",
      "100%|██████████| 50/50 [00:00<00:00, 120.55it/s]\n",
      "100%|██████████| 100/100 [00:00<00:00, 124.76it/s]\n",
      "100%|██████████| 50/50 [00:00<00:00, 138.57it/s]\n",
      "100%|██████████| 50/50 [00:00<00:00, 155.37it/s]\n",
      "100%|██████████| 50/50 [00:00<00:00, 159.33it/s]\n"
     ]
    }
   ],
   "source": [
    "  for category in CATEGORIES:      \n",
    "    path = os.path.join(DATADIR,category)  \n",
    "    class_ind = CATEGORIES.index(category)\n",
    "    class_num = np.zeros(151)\n",
    "    class_num = class_ind\n",
    "    for img in tqdm(os.listdir(path)): \n",
    "      img_array = cv2.imread(os.path.join(path,img), cv2.IMREAD_GRAYSCALE) \n",
    "      \n",
    "      \n",
    "      img_array = cv2.resize(img_array,img_shape,interpolation = cv2.INTER_CUBIC)\n",
    "      training_data.append([img_array, class_num])"
   ]
  },
  {
   "cell_type": "code",
   "execution_count": 78,
   "id": "607d126f",
   "metadata": {},
   "outputs": [],
   "source": [
    "import random"
   ]
  },
  {
   "cell_type": "code",
   "execution_count": 79,
   "id": "fc6da1e8",
   "metadata": {},
   "outputs": [],
   "source": [
    "random.shuffle(training_data)"
   ]
  },
  {
   "cell_type": "code",
   "execution_count": 80,
   "id": "95d29448",
   "metadata": {},
   "outputs": [],
   "source": [
    "features_data = []\n",
    "label_data = []\n",
    "\n",
    "for features,label in training_data:\n",
    "  features_data.append(features)\n",
    "  label_data.append(label)"
   ]
  },
  {
   "cell_type": "code",
   "execution_count": 81,
   "id": "cd466ab4",
   "metadata": {},
   "outputs": [],
   "source": [
    "features_numpy=np.array(features_data)\n",
    "label_data_numpy=np.array(label_data)\n",
    "features_numpy=features_numpy.reshape(len(features_numpy),WIDTH,HEIGHT)"
   ]
  },
  {
   "cell_type": "code",
   "execution_count": 82,
   "id": "0a92c06a",
   "metadata": {},
   "outputs": [],
   "source": [
    "pickle_out = open(\"akashara_hand_char1_28 x 28.pickle\",\"wb\")\n",
    "pickle.dump(features_numpy, pickle_out)\n",
    "pickle_out.close()\n",
    "pickle_out = open(\"akashara_hand_label1_28 x 28.pickle\",\"wb\")\n",
    "pickle.dump(label_data_numpy, pickle_out)\n",
    "pickle_out.close()"
   ]
  },
  {
   "cell_type": "code",
   "execution_count": 83,
   "id": "d8318a9a",
   "metadata": {},
   "outputs": [],
   "source": [
    "pickle_in = open(\"C:\\\\Users\\\\ra\\\\Desktop\\\\mini_project\\\\akashara_hand_char1_28 x 28.pickle\",\"rb\")\n",
    "features_numpy1 = pickle.load(pickle_in)\n",
    "\n",
    "pickle_in = open(\"C:\\\\Users\\\\ra\\\\Desktop\\\\mini_project\\\\akashara_hand_label1_28 x 28.pickle\",\"rb\")\n",
    "label_numpy1 = pickle.load(pickle_in)"
   ]
  },
  {
   "cell_type": "code",
   "execution_count": 84,
   "id": "11370d51",
   "metadata": {},
   "outputs": [
    {
     "data": {
      "text/plain": [
       "(7607, 120, 120)"
      ]
     },
     "execution_count": 84,
     "metadata": {},
     "output_type": "execute_result"
    }
   ],
   "source": [
    "features_numpy1.shape"
   ]
  },
  {
   "cell_type": "code",
   "execution_count": 85,
   "id": "dad8dff6",
   "metadata": {},
   "outputs": [],
   "source": [
    "from sklearn.model_selection import train_test_split"
   ]
  },
  {
   "cell_type": "code",
   "execution_count": 86,
   "id": "d9ac877e",
   "metadata": {},
   "outputs": [],
   "source": [
    "X_train, X_test, Y_train, Y_test = train_test_split(\n",
    "     features_numpy1, label_numpy1, test_size=0.1, random_state=42)"
   ]
  },
  {
   "cell_type": "code",
   "execution_count": 87,
   "id": "a0afb7c1",
   "metadata": {},
   "outputs": [],
   "source": [
    "X_train=X_train/255.0\n",
    "X_test=X_test/255.0\n",
    "# print(Y_train.shape)\n",
    "# print(Y_test.shape)"
   ]
  },
  {
   "cell_type": "code",
   "execution_count": 88,
   "id": "41bcc91c",
   "metadata": {},
   "outputs": [
    {
     "data": {
      "text/plain": [
       "(761, 120, 120)"
      ]
     },
     "execution_count": 88,
     "metadata": {},
     "output_type": "execute_result"
    }
   ],
   "source": [
    "X_test.shape"
   ]
  },
  {
   "cell_type": "code",
   "execution_count": 89,
   "id": "8dc5e9bd",
   "metadata": {},
   "outputs": [
    {
     "data": {
      "image/png": "[encoded data removed]",
      "text/plain": [
       "<Figure size 576x576 with 16 Axes>"
      ]
     },
     "metadata": {
      "needs_background": "light"
     },
     "output_type": "display_data"
    }
   ],
   "source": [
    "# Plot 4 columns and 4 rows for a subplot\n",
    "plt_cols = 4\n",
    "plt_rows = 4\n",
    "\n",
    "# Start at image #100 of our train_x dataset\n",
    "row_to_start = 100\n",
    "\n",
    "# Create a figure, where each figure has a size (8,8)\n",
    "fig=plt.figure(figsize=(8, 8))\n",
    "\n",
    "# iterate between row_to_start to the amount of rows and cols we have created\n",
    "for i in range(row_to_start, row_to_start + plt_cols*plt_rows):\n",
    "    # each plot will initate the same rows and cols, for the 3rd param we will iterate from 1 to (rows * cols)\n",
    "    fig.add_subplot(plt_rows, plt_cols, i - row_to_start + 1)\n",
    "    fig.tight_layout()\n",
    "    #image to show is the train_x\n",
    "    plt.imshow(X_train[i], cmap=plt.get_cmap('gray'))\n",
    "    plt.title(label_numpy1[Y_train[i]])\n",
    "plt.show()"
   ]
  },
  {
   "cell_type": "code",
   "execution_count": 90,
   "id": "6e06180e",
   "metadata": {},
   "outputs": [
    {
     "name": "stdout",
     "output_type": "stream",
     "text": [
      "train_y:  (6846, 151)\n",
      "test_y:  (761, 151)\n"
     ]
    }
   ],
   "source": [
    "Y_train = utils.to_categorical(Y_train, 151)\n",
    "Y_test = utils.to_categorical(Y_test, 151)\n",
    "print(\"train_y: \", Y_train.shape)\n",
    "print(\"test_y: \", Y_test.shape)"
   ]
  },
  {
   "cell_type": "code",
   "execution_count": 91,
   "id": "417dc67e",
   "metadata": {},
   "outputs": [],
   "source": [
    "X_train = X_train.reshape(-1, HEIGHT, WIDTH, 1)\n",
    "X_test = X_test.reshape(-1, HEIGHT, WIDTH, 1)"
   ]
  },
  {
   "cell_type": "code",
   "execution_count": 92,
   "id": "1859e480",
   "metadata": {},
   "outputs": [
    {
     "name": "stdout",
     "output_type": "stream",
     "text": [
      "(6846, 120, 120, 1)\n",
      "(761, 120, 120, 1)\n"
     ]
    }
   ],
   "source": [
    "print(X_train.shape)\n",
    "print(X_test.shape)"
   ]
  },
  {
   "cell_type": "code",
   "execution_count": 93,
   "id": "bb854af0",
   "metadata": {},
   "outputs": [],
   "source": [
    "#Model\n",
    "\n",
    "from tensorflow.keras.models import Sequential\n",
    "from tensorflow.keras.layers import Dense, Dropout, Activation, Flatten\n",
    "from tensorflow.keras.layers import Conv2D, MaxPooling2D\n",
    "from tensorflow.keras.callbacks import TensorBoard\n",
    "from tensorflow.keras.callbacks import EarlyStopping\n",
    "from sklearn.model_selection import train_test_split\n",
    "import time"
   ]
  },
  {
   "cell_type": "code",
   "execution_count": 94,
   "id": "13890c89",
   "metadata": {},
   "outputs": [],
   "source": [
    "HEIGHT = 120\n",
    "WIDTH = 120\n",
    "class_num = 151"
   ]
  },
  {
   "cell_type": "code",
   "execution_count": 95,
   "id": "c1f9bf0d",
   "metadata": {},
   "outputs": [],
   "source": [
    "# partition to train and val\n",
    "train_x, val_x, train_y, val_y = train_test_split(\n",
    "    X_train, Y_train, test_size=0.10, random_state=7)"
   ]
  },
  {
   "cell_type": "code",
   "execution_count": 96,
   "id": "d552e3ca",
   "metadata": {},
   "outputs": [],
   "source": [
    "dense_layers = [2]\n",
    "layer_sizes = [128]\n",
    "conv_layers = [2]\n",
    "callback = EarlyStopping(monitor='val_loss', patience=3)"
   ]
  },
  {
   "cell_type": "code",
   "execution_count": 97,
   "id": "fbdecea7",
   "metadata": {},
   "outputs": [
    {
     "name": "stdout",
     "output_type": "stream",
     "text": [
      "Final:2-conv-128-nodes-2-dense-0.2-Dropout-1625069824\n",
      "Epoch 1/10\n",
      "193/193 [==============================] - 507s 3s/step - loss: 5.0357 - accuracy: 0.0089 - val_loss: 5.0194 - val_accuracy: 0.0161\n",
      "Epoch 2/10\n",
      "193/193 [==============================] - 497s 3s/step - loss: 5.0172 - accuracy: 0.0131 - val_loss: 5.0210 - val_accuracy: 0.0161\n",
      "Epoch 3/10\n",
      "193/193 [==============================] - 496s 3s/step - loss: 5.0164 - accuracy: 0.0131 - val_loss: 5.0226 - val_accuracy: 0.0161\n",
      "Epoch 4/10\n",
      "193/193 [==============================] - 496s 3s/step - loss: 5.0159 - accuracy: 0.0131 - val_loss: 5.0242 - val_accuracy: 0.0161\n"
     ]
    }
   ],
   "source": [
    "for dense_layer in dense_layers:\n",
    "    for layer_size in layer_sizes:\n",
    "        for conv_layer in conv_layers:\n",
    "            NAME = \"Final:{}-conv-{}-nodes-{}-dense-0.2-Dropout-{}\".format(\n",
    "                conv_layer, layer_size, dense_layer, int(time.time()))\n",
    "            \n",
    "            # initialize TensorBoard in the loop\n",
    "#             tensorboard = TensorBoard(log_dir='logs/{}'.format(NAME))\n",
    "            print(NAME) # Final:2-conv-128-nodes-2-dense-0.2-Dropout\n",
    "\n",
    "            # Build the model\n",
    "            model = Sequential()\n",
    "\n",
    "            # Begin with Conv2D layer\n",
    "            model.add(Conv2D(layer_size, (3, 3), input_shape=(HEIGHT, WIDTH, 1)))\n",
    "            model.add(Activation('relu'))\n",
    "            model.add(MaxPooling2D(pool_size=(2, 2)))\n",
    "\n",
    "            for l in range(conv_layer - 1):\n",
    "                # Extra Conv2D layers\n",
    "                model.add(Conv2D(layer_size, (3, 3)))\n",
    "                model.add(Activation('relu'))\n",
    "                model.add(MaxPooling2D(pool_size=(2, 2)))\n",
    "\n",
    "            model.add(Flatten())\n",
    "\n",
    "            for l in range(dense_layer):\n",
    "                # Adding dense layers\n",
    "                model.add(Dense(layer_size))\n",
    "                model.add(Activation('relu'))\n",
    "                model.add(Dropout(0.2))\n",
    "\n",
    "            # Output layer\n",
    "            model.add(Dense(units=class_num, activation='softmax'))\n",
    "\n",
    "            # Train the model\n",
    "            model.compile(optimizer='adam',\n",
    "                        loss='categorical_crossentropy',\n",
    "                        metrics=['accuracy'])\n",
    "\n",
    "            hist=model.fit(train_x, train_y, epochs=10, batch_size=32,callbacks=[callback],\n",
    "                    validation_data=(val_x, val_y))\n",
    "\n",
    "            model.save('models.h5')\n"
   ]
  },
  {
   "cell_type": "code",
   "execution_count": 98,
   "id": "331c41dd",
   "metadata": {},
   "outputs": [
    {
     "name": "stdout",
     "output_type": "stream",
     "text": [
      "6/6 [==============================] - 14s 2s/step - loss: 5.0243 - accuracy: 0.0105\n",
      "test loss, test acc: [5.024256706237793, 0.010512483306229115]\n"
     ]
    }
   ],
   "source": [
    "results = model.evaluate(X_test, Y_test, batch_size=128)\n",
    "print(\"test loss, test acc:\", results)\n"
   ]
  },
  {
   "cell_type": "code",
   "execution_count": null,
   "id": "24aa9983",
   "metadata": {},
   "outputs": [],
   "source": []
  },
  {
   "cell_type": "code",
   "execution_count": null,
   "id": "a56df7e7",
   "metadata": {},
   "outputs": [],
   "source": []
  }
 ],
 "metadata": {
  "kernelspec": {
   "display_name": "myenv",
   "language": "python",
   "name": "myenv"
  },
  "language_info": {
   "codemirror_mode": {
    "name": "ipython",
    "version": 3
   },
   "file_extension": ".py",
   "mimetype": "text/x-python",
   "name": "python",
   "nbconvert_exporter": "python",
   "pygments_lexer": "ipython3",
   "version": "3.8.5"
  }
 },
 "nbformat": 4,
 "nbformat_minor": 5
}
